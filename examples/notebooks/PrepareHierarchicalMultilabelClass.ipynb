{
 "cells": [
  {
   "cell_type": "code",
   "execution_count": 1,
   "metadata": {},
   "outputs": [],
   "source": [
    "import json\n",
    "from pathlib import Path\n",
    "\n",
    "import numpy as np\n",
    "import pandas as pd\n",
    "from tqdm import tqdm"
   ]
  },
  {
   "cell_type": "markdown",
   "metadata": {},
   "source": [
    "### Load initial class labels"
   ]
  },
  {
   "cell_type": "code",
   "execution_count": 2,
   "metadata": {},
   "outputs": [],
   "source": [
    "vienna = pd.read_csv('/workdir/data/tz/vienna_labels.csv')\n",
    "vienna.drop('Unnamed: 0', axis=1, inplace=True)"
   ]
  },
  {
   "cell_type": "code",
   "execution_count": 3,
   "metadata": {},
   "outputs": [
    {
     "data": {
      "text/html": [
       "<div>\n",
       "<style scoped>\n",
       "    .dataframe tbody tr th:only-of-type {\n",
       "        vertical-align: middle;\n",
       "    }\n",
       "\n",
       "    .dataframe tbody tr th {\n",
       "        vertical-align: top;\n",
       "    }\n",
       "\n",
       "    .dataframe thead th {\n",
       "        text-align: right;\n",
       "    }\n",
       "</style>\n",
       "<table border=\"1\" class=\"dataframe\">\n",
       "  <thead>\n",
       "    <tr style=\"text-align: right;\">\n",
       "      <th></th>\n",
       "      <th>image_path</th>\n",
       "      <th>label</th>\n",
       "      <th>exists</th>\n",
       "    </tr>\n",
       "  </thead>\n",
       "  <tbody>\n",
       "    <tr>\n",
       "      <th>0</th>\n",
       "      <td>TMN/IMG/01/376/01376840.TIF</td>\n",
       "      <td>27.05.08С 09.01.10 18.05.01 21.01.25 14.03.15 ...</td>\n",
       "      <td>True</td>\n",
       "    </tr>\n",
       "    <tr>\n",
       "      <th>1</th>\n",
       "      <td>TMN/IMG/01/197/01197742.TIF</td>\n",
       "      <td>20.05.14 24.01.03 24.01.19 03.01.22 03.01.23 0...</td>\n",
       "      <td>True</td>\n",
       "    </tr>\n",
       "    <tr>\n",
       "      <th>2</th>\n",
       "      <td>TMN/IMG/01/270/01270620.TIF</td>\n",
       "      <td>27.05.15 26.04.02 26.04.18 26.04.24 28.11</td>\n",
       "      <td>True</td>\n",
       "    </tr>\n",
       "    <tr>\n",
       "      <th>3</th>\n",
       "      <td>TMN/IMG/01/254/01254043.TIF</td>\n",
       "      <td>03.01.04 03.01.16 28.19 03.01.16 03.01.24 26.0...</td>\n",
       "      <td>True</td>\n",
       "    </tr>\n",
       "    <tr>\n",
       "      <th>4</th>\n",
       "      <td>TMN/IMG/01/215/01215623.TIF</td>\n",
       "      <td>29.01.12 27.05.11 09.01.10 27.05.23 28.05 29.0...</td>\n",
       "      <td>True</td>\n",
       "    </tr>\n",
       "  </tbody>\n",
       "</table>\n",
       "</div>"
      ],
      "text/plain": [
       "                    image_path  \\\n",
       "0  TMN/IMG/01/376/01376840.TIF   \n",
       "1  TMN/IMG/01/197/01197742.TIF   \n",
       "2  TMN/IMG/01/270/01270620.TIF   \n",
       "3  TMN/IMG/01/254/01254043.TIF   \n",
       "4  TMN/IMG/01/215/01215623.TIF   \n",
       "\n",
       "                                               label  exists  \n",
       "0  27.05.08С 09.01.10 18.05.01 21.01.25 14.03.15 ...    True  \n",
       "1  20.05.14 24.01.03 24.01.19 03.01.22 03.01.23 0...    True  \n",
       "2          27.05.15 26.04.02 26.04.18 26.04.24 28.11    True  \n",
       "3  03.01.04 03.01.16 28.19 03.01.16 03.01.24 26.0...    True  \n",
       "4  29.01.12 27.05.11 09.01.10 27.05.23 28.05 29.0...    True  "
      ]
     },
     "execution_count": 3,
     "metadata": {},
     "output_type": "execute_result"
    }
   ],
   "source": [
    "vienna.head()"
   ]
  },
  {
   "cell_type": "markdown",
   "metadata": {},
   "source": [
    "### Count unique classes filter out non-popular"
   ]
  },
  {
   "cell_type": "code",
   "execution_count": 6,
   "metadata": {},
   "outputs": [],
   "source": [
    "classes = []\n",
    "\n",
    "for cur_classes in vienna['label'].apply(lambda label: label.split()):\n",
    "    classes.extend(cur_classes)"
   ]
  },
  {
   "cell_type": "code",
   "execution_count": 7,
   "metadata": {},
   "outputs": [
    {
     "data": {
      "text/plain": [
       "((4343,), (1743,))"
      ]
     },
     "execution_count": 7,
     "metadata": {},
     "output_type": "execute_result"
    }
   ],
   "source": [
    "unique_classes, classes_counts = np.unique(classes, return_counts=True)\n",
    "unique_classes.shape, unique_classes[classes_counts > 100].shape"
   ]
  },
  {
   "cell_type": "code",
   "execution_count": 8,
   "metadata": {},
   "outputs": [],
   "source": [
    "unique_classes = unique_classes[classes_counts > 100]\n",
    "idx2name = dict(enumerate(unique_classes))\n",
    "name2idx = {v: k for k, v in idx2name.items()}"
   ]
  },
  {
   "cell_type": "markdown",
   "metadata": {},
   "source": [
    "### Convert hierarchical classes tree into range levels"
   ]
  },
  {
   "cell_type": "code",
   "execution_count": 9,
   "metadata": {},
   "outputs": [],
   "source": [
    "def build_class_levels(name2idx):\n",
    "    \"\"\"\n",
    "    Takes in class name to index mapping and returns dictionary where:\n",
    "    - keys: the same class names as input \n",
    "    (different level in the hierarchical classes tree are separated by '.')\n",
    "    - values: K lists of tuples of two values (min_range, max_range),\n",
    "    representing min-max range values of corresponding classes falling into \n",
    "    their sectors in the original full-length class vector. K - depth of the hierarchy, \n",
    "    where 1st level represent deepest hierarchy of the classes tree\n",
    "    \"\"\"\n",
    "    name2levels = {}\n",
    "    \n",
    "    for cl_name, _ in name2idx.items():\n",
    "        cl_level = cl_name\n",
    "        main_level = (int(name2idx[cl_level]), int(name2idx[cl_level]))\n",
    "        \n",
    "        levels = []\n",
    "        split_pos = cl_name.rfind('.')\n",
    "        while split_pos > 0:\n",
    "            cl_level = cl_name[:split_pos]\n",
    "            level_indexes = np.array([cl_idx for cl_name, cl_idx in name2idx.items() if cl_name.startswith(cl_level)])\n",
    "            levels.append((int(level_indexes.min()), int(level_indexes.max())))\n",
    "            split_pos = cl_level.rfind('.')\n",
    "        \n",
    "        levels = [main_level] + levels\n",
    "        \n",
    "        name2levels[cl_name] = levels\n",
    "        \n",
    "    return name2levels"
   ]
  },
  {
   "cell_type": "code",
   "execution_count": 10,
   "metadata": {},
   "outputs": [],
   "source": [
    "name2levels = build_class_levels(name2idx)"
   ]
  },
  {
   "cell_type": "code",
   "execution_count": 11,
   "metadata": {},
   "outputs": [
    {
     "name": "stdout",
     "output_type": "stream",
     "text": [
      "01.01.01 [(0, 0), (0, 14), (0, 95)]\n",
      "01.01.02 [(1, 1), (0, 14), (0, 95)]\n",
      "01.01.03 [(2, 2), (0, 14), (0, 95)]\n",
      "01.01.04 [(3, 3), (0, 14), (0, 95)]\n",
      "01.01.05 [(4, 4), (0, 14), (0, 95)]\n",
      "01.01.08 [(5, 5), (0, 14), (0, 95)]\n",
      "01.01.09 [(6, 6), (0, 14), (0, 95)]\n",
      "01.01.10 [(7, 7), (0, 14), (0, 95)]\n",
      "01.01.12 [(8, 8), (0, 14), (0, 95)]\n",
      "01.01.13 [(9, 9), (0, 14), (0, 95)]\n",
      "01.01.15 [(10, 10), (0, 14), (0, 95)]\n",
      "01.01.17 [(11, 11), (0, 14), (0, 95)]\n",
      "01.01.19 [(12, 12), (0, 14), (0, 95)]\n",
      "01.01.20 [(13, 13), (0, 14), (0, 95)]\n",
      "01.01.25 [(14, 14), (0, 14), (0, 95)]\n",
      "01.03.01 [(15, 15), (15, 29), (0, 95)]\n",
      "01.03.02 [(16, 16), (15, 29), (0, 95)]\n",
      "01.03.06 [(17, 17), (15, 29), (0, 95)]\n",
      "01.03.07 [(18, 18), (15, 29), (0, 95)]\n",
      "01.03.08 [(19, 19), (15, 29), (0, 95)]\n"
     ]
    }
   ],
   "source": [
    "i = 0\n",
    "for cl_name, cl_levels in name2levels.items():\n",
    "    print(cl_name, cl_levels)\n",
    "    i += 1\n",
    "    if i >= 20:\n",
    "        break"
   ]
  },
  {
   "cell_type": "code",
   "execution_count": 12,
   "metadata": {},
   "outputs": [
    {
     "data": {
      "text/plain": [
       "[(1495, 1495), (1456, 1690), (1436, 1706)]"
      ]
     },
     "execution_count": 12,
     "metadata": {},
     "output_type": "execute_result"
    }
   ],
   "source": [
    "# For example, for this class we have 3 levels of hierarchy,\n",
    "# where 1st is '08C', 2nd is '05' and the 3rd is '27' - \n",
    "# the higher class in the hierarchy the more broad range it covers\n",
    "name2levels['27.05.08С']"
   ]
  },
  {
   "cell_type": "markdown",
   "metadata": {},
   "source": [
    "### Save classes hierarchy to be able to work in HierarchicalMultilabelClassificationLoss"
   ]
  },
  {
   "cell_type": "code",
   "execution_count": 352,
   "metadata": {},
   "outputs": [],
   "source": [
    "with open('/workdir/data/tz/vienna_1743_classname2levels.json', 'w') as f:\n",
    "    json.dump(name2levels, f)"
   ]
  },
  {
   "cell_type": "code",
   "execution_count": 353,
   "metadata": {},
   "outputs": [],
   "source": [
    "with open('/workdir/data/tz/vienna_1743_classname2index.json', 'w') as f:\n",
    "    json.dump(name2idx, f)"
   ]
  },
  {
   "cell_type": "code",
   "execution_count": 13,
   "metadata": {},
   "outputs": [
    {
     "data": {
      "text/html": [
       "<div>\n",
       "<style scoped>\n",
       "    .dataframe tbody tr th:only-of-type {\n",
       "        vertical-align: middle;\n",
       "    }\n",
       "\n",
       "    .dataframe tbody tr th {\n",
       "        vertical-align: top;\n",
       "    }\n",
       "\n",
       "    .dataframe thead th {\n",
       "        text-align: right;\n",
       "    }\n",
       "</style>\n",
       "<table border=\"1\" class=\"dataframe\">\n",
       "  <thead>\n",
       "    <tr style=\"text-align: right;\">\n",
       "      <th></th>\n",
       "      <th>image_path</th>\n",
       "      <th>label</th>\n",
       "      <th>exists</th>\n",
       "    </tr>\n",
       "  </thead>\n",
       "  <tbody>\n",
       "    <tr>\n",
       "      <th>0</th>\n",
       "      <td>TMN/IMG/01/376/01376840.TIF</td>\n",
       "      <td>27.05.08С 09.01.10 18.05.01 21.01.25 14.03.15 ...</td>\n",
       "      <td>True</td>\n",
       "    </tr>\n",
       "    <tr>\n",
       "      <th>1</th>\n",
       "      <td>TMN/IMG/01/197/01197742.TIF</td>\n",
       "      <td>20.05.14 24.01.03 24.01.19 03.01.22 03.01.23 0...</td>\n",
       "      <td>True</td>\n",
       "    </tr>\n",
       "    <tr>\n",
       "      <th>2</th>\n",
       "      <td>TMN/IMG/01/270/01270620.TIF</td>\n",
       "      <td>27.05.15 26.04.02 26.04.18 26.04.24 28.11</td>\n",
       "      <td>True</td>\n",
       "    </tr>\n",
       "    <tr>\n",
       "      <th>3</th>\n",
       "      <td>TMN/IMG/01/254/01254043.TIF</td>\n",
       "      <td>03.01.04 03.01.16 28.19 03.01.16 03.01.24 26.0...</td>\n",
       "      <td>True</td>\n",
       "    </tr>\n",
       "    <tr>\n",
       "      <th>4</th>\n",
       "      <td>TMN/IMG/01/215/01215623.TIF</td>\n",
       "      <td>29.01.12 27.05.11 09.01.10 27.05.23 28.05 29.0...</td>\n",
       "      <td>True</td>\n",
       "    </tr>\n",
       "  </tbody>\n",
       "</table>\n",
       "</div>"
      ],
      "text/plain": [
       "                    image_path  \\\n",
       "0  TMN/IMG/01/376/01376840.TIF   \n",
       "1  TMN/IMG/01/197/01197742.TIF   \n",
       "2  TMN/IMG/01/270/01270620.TIF   \n",
       "3  TMN/IMG/01/254/01254043.TIF   \n",
       "4  TMN/IMG/01/215/01215623.TIF   \n",
       "\n",
       "                                               label  exists  \n",
       "0  27.05.08С 09.01.10 18.05.01 21.01.25 14.03.15 ...    True  \n",
       "1  20.05.14 24.01.03 24.01.19 03.01.22 03.01.23 0...    True  \n",
       "2          27.05.15 26.04.02 26.04.18 26.04.24 28.11    True  \n",
       "3  03.01.04 03.01.16 28.19 03.01.16 03.01.24 26.0...    True  \n",
       "4  29.01.12 27.05.11 09.01.10 27.05.23 28.05 29.0...    True  "
      ]
     },
     "execution_count": 13,
     "metadata": {},
     "output_type": "execute_result"
    }
   ],
   "source": [
    "vienna.head()"
   ]
  },
  {
   "cell_type": "code",
   "execution_count": 15,
   "metadata": {},
   "outputs": [
    {
     "data": {
      "text/html": [
       "<div>\n",
       "<style scoped>\n",
       "    .dataframe tbody tr th:only-of-type {\n",
       "        vertical-align: middle;\n",
       "    }\n",
       "\n",
       "    .dataframe tbody tr th {\n",
       "        vertical-align: top;\n",
       "    }\n",
       "\n",
       "    .dataframe thead th {\n",
       "        text-align: right;\n",
       "    }\n",
       "</style>\n",
       "<table border=\"1\" class=\"dataframe\">\n",
       "  <thead>\n",
       "    <tr style=\"text-align: right;\">\n",
       "      <th></th>\n",
       "      <th>image_path</th>\n",
       "      <th>label</th>\n",
       "      <th>exists</th>\n",
       "    </tr>\n",
       "  </thead>\n",
       "  <tbody>\n",
       "    <tr>\n",
       "      <th>0</th>\n",
       "      <td>TMN/IMG/01/376/01376840.TIF</td>\n",
       "      <td>[1495, 632, 950, 1065, 791, 1064, 1624, 1712]</td>\n",
       "      <td>True</td>\n",
       "    </tr>\n",
       "    <tr>\n",
       "      <th>1</th>\n",
       "      <td>TMN/IMG/01/197/01197742.TIF</td>\n",
       "      <td>[1046, 1124, 1136, 209, 210, 221, 791, 1124, 1...</td>\n",
       "      <td>True</td>\n",
       "    </tr>\n",
       "    <tr>\n",
       "      <th>2</th>\n",
       "      <td>TMN/IMG/01/270/01270620.TIF</td>\n",
       "      <td>[1514, 1351, 1367, 1373, 1712]</td>\n",
       "      <td>True</td>\n",
       "    </tr>\n",
       "    <tr>\n",
       "      <th>3</th>\n",
       "      <td>TMN/IMG/01/254/01254043.TIF</td>\n",
       "      <td>[196, 203, 1728, 203, 211, 1298, 1300, 1318, 1...</td>\n",
       "      <td>True</td>\n",
       "    </tr>\n",
       "    <tr>\n",
       "      <th>4</th>\n",
       "      <td>TMN/IMG/01/215/01215623.TIF</td>\n",
       "      <td>[1739, 1510, 632, 1624, 1709, 1737, 1739]</td>\n",
       "      <td>True</td>\n",
       "    </tr>\n",
       "  </tbody>\n",
       "</table>\n",
       "</div>"
      ],
      "text/plain": [
       "                    image_path  \\\n",
       "0  TMN/IMG/01/376/01376840.TIF   \n",
       "1  TMN/IMG/01/197/01197742.TIF   \n",
       "2  TMN/IMG/01/270/01270620.TIF   \n",
       "3  TMN/IMG/01/254/01254043.TIF   \n",
       "4  TMN/IMG/01/215/01215623.TIF   \n",
       "\n",
       "                                               label  exists  \n",
       "0      [1495, 632, 950, 1065, 791, 1064, 1624, 1712]    True  \n",
       "1  [1046, 1124, 1136, 209, 210, 221, 791, 1124, 1...    True  \n",
       "2                     [1514, 1351, 1367, 1373, 1712]    True  \n",
       "3  [196, 203, 1728, 203, 211, 1298, 1300, 1318, 1...    True  \n",
       "4          [1739, 1510, 632, 1624, 1709, 1737, 1739]    True  "
      ]
     },
     "execution_count": 15,
     "metadata": {},
     "output_type": "execute_result"
    }
   ],
   "source": [
    "vienna['label'] = vienna['label'].apply(lambda label: [name2idx[cl_name] for cl_name in label.split() if cl_name in name2idx])\n",
    "vienna.head()"
   ]
  },
  {
   "cell_type": "code",
   "execution_count": 16,
   "metadata": {},
   "outputs": [],
   "source": [
    "vienna['image_path'] = vienna['image_path'].apply(lambda p: p[:-4] + '.jpg')"
   ]
  },
  {
   "cell_type": "code",
   "execution_count": 378,
   "metadata": {},
   "outputs": [],
   "source": [
    "vienna.to_csv('/workdir/data/tz_jpg/vienna_1743_all.csv', index=False)"
   ]
  },
  {
   "cell_type": "markdown",
   "metadata": {},
   "source": [
    "### Train/valid split"
   ]
  },
  {
   "cell_type": "code",
   "execution_count": 373,
   "metadata": {},
   "outputs": [],
   "source": [
    "from sklearn.model_selection import train_test_split"
   ]
  },
  {
   "cell_type": "code",
   "execution_count": 374,
   "metadata": {},
   "outputs": [],
   "source": [
    "train, valid = train_test_split(vienna, test_size=0.2, shuffle=True, random_state=123)"
   ]
  },
  {
   "cell_type": "code",
   "execution_count": 377,
   "metadata": {},
   "outputs": [],
   "source": [
    "train.to_csv('/workdir/data/tz_jpg/vienna_1743_train.csv', index=False)\n",
    "valid.to_csv('/workdir/data/tz_jpg/vienna_1743_valid.csv', index=False)"
   ]
  }
 ],
 "metadata": {
  "kernelspec": {
   "display_name": "Python 3",
   "language": "python",
   "name": "python3"
  },
  "language_info": {
   "codemirror_mode": {
    "name": "ipython",
    "version": 3
   },
   "file_extension": ".py",
   "mimetype": "text/x-python",
   "name": "python",
   "nbconvert_exporter": "python",
   "pygments_lexer": "ipython3",
   "version": "3.7.9"
  }
 },
 "nbformat": 4,
 "nbformat_minor": 4
}
