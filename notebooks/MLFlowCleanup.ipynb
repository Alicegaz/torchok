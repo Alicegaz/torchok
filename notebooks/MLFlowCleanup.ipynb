{
 "cells": [
  {
   "cell_type": "code",
   "execution_count": 1,
   "id": "45e49977-38b2-4dc1-a607-81697008238e",
   "metadata": {},
   "outputs": [],
   "source": [
    "import json\n",
    "\n",
    "import boto3\n",
    "from mlflow.tracking import MlflowClient\n",
    "from mlflow.entities import ViewType"
   ]
  },
  {
   "cell_type": "code",
   "execution_count": 2,
   "id": "dafeda1e-62df-4286-b974-d593acc369a9",
   "metadata": {},
   "outputs": [],
   "source": [
    "secretsmanager = {\n",
    "    \"region\": \"eu-west-1\",\n",
    "    \"mlflow_secret\": \"acme/mlflow\"\n",
    "}\n",
    "\n",
    "session = boto3.session.Session()\n",
    "client = session.client(service_name=\"secretsmanager\", region_name=secretsmanager[\"region\"])\n",
    "mlflow_secret = client.get_secret_value(SecretId=secretsmanager[\"mlflow_secret\"])\n",
    "mlflowdb_conf = json.loads(mlflow_secret[\"SecretString\"])\n",
    "tracking_uri = f\"mysql+pymysql://{mlflowdb_conf['username']}:{mlflowdb_conf['password']}@{mlflowdb_conf['host']}/mlflow\""
   ]
  },
  {
   "cell_type": "code",
   "execution_count": 3,
   "id": "7e47902a-4123-4ccb-9848-b69d386d6ef7",
   "metadata": {},
   "outputs": [],
   "source": [
    "mlflow_client = MlflowClient(tracking_uri)"
   ]
  },
  {
   "cell_type": "code",
   "execution_count": 32,
   "id": "2cf2b19c-5cce-450b-aacb-7631d8b8217c",
   "metadata": {},
   "outputs": [],
   "source": [
    "EXPERIMENTS_TO_CLEANUP = [\n",
    "    \"cifar10-test\"\n",
    "]"
   ]
  },
  {
   "cell_type": "code",
   "execution_count": 33,
   "id": "e1df1fd2-31ae-4d58-9988-278496dfe228",
   "metadata": {},
   "outputs": [
    {
     "name": "stdout",
     "output_type": "stream",
     "text": [
      "Found 0 deleted runs in experiment: cifar10-test. Deleting...\n"
     ]
    }
   ],
   "source": [
    "for expt_name in EXPERIMENTS_TO_CLEANUP:\n",
    "    expt = mlflow_client.get_experiment_by_name(expt_name)\n",
    "    runs = [run_info for run_info in mlflow_client.list_run_infos(expt.experiment_id, run_view_type=ViewType.DELETED_ONLY)]\n",
    "    print(f\"Found {len(runs)} deleted runs in experiment: {expt_name}. Deleting...\")\n",
    "    \n",
    "    for run_info in runs:\n",
    "        artifact_uri_split = run_info.artifact_uri.split('/')\n",
    "        bucket_name = artifact_uri_split[2]\n",
    "        prefix = '/'.join(artifact_uri_split[3:artifact_uri_split.index(run_info.run_id) + 1])\n",
    "        \n",
    "        print(f\"Artifacts URI: {run_info.artifact_uri}. Deleting...\")\n",
    "\n",
    "        s3 = boto3.resource('s3')\n",
    "        bucket = s3.Bucket(bucket_name)\n",
    "        bucket.objects.filter(Prefix=prefix).delete()"
   ]
  }
 ],
 "metadata": {
  "kernelspec": {
   "display_name": "Python 3",
   "language": "python",
   "name": "python3"
  },
  "language_info": {
   "codemirror_mode": {
    "name": "ipython",
    "version": 3
   },
   "file_extension": ".py",
   "mimetype": "text/x-python",
   "name": "python",
   "nbconvert_exporter": "python",
   "pygments_lexer": "ipython3",
   "version": "3.7.10"
  }
 },
 "nbformat": 4,
 "nbformat_minor": 5
}
